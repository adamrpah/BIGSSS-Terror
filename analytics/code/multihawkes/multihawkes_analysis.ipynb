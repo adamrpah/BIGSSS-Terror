{
 "cells": [
  {
   "cell_type": "code",
   "execution_count": 2,
   "metadata": {
    "scrolled": false
   },
   "outputs": [],
   "source": [
    "%matplotlib inline\n",
    "import pandas as pd\n",
    "import json\n",
    "import glob\n",
    "import networkx as nx\n",
    "import matplotlib.pyplot as plt\n",
    "import matplotlib as mpl\n",
    "mpl.rc('text', usetex=True)\n",
    "\n",
    "def name_cleaner(x):\n",
    "    if '(' in x:\n",
    "        return x.split(' ')[-1].strip('()').lstrip('()')\n",
    "    else:\n",
    "        return x"
   ]
  },
  {
   "cell_type": "code",
   "execution_count": 84,
   "metadata": {},
   "outputs": [
    {
     "ename": "FileNotFoundError",
     "evalue": "[Errno 2] No such file or directory: 'r1000/Afghanistan_multihawkes.json'",
     "output_type": "error",
     "traceback": [
      "\u001b[0;31m---------------------------------------------------------------------------\u001b[0m",
      "\u001b[0;31mFileNotFoundError\u001b[0m                         Traceback (most recent call last)",
      "\u001b[0;32m<ipython-input-84-b4377d4b1141>\u001b[0m in \u001b[0;36m<module>\u001b[0;34m()\u001b[0m\n\u001b[1;32m     10\u001b[0m \u001b[0;32mfor\u001b[0m \u001b[0mcountry\u001b[0m \u001b[0;32min\u001b[0m \u001b[0;34m[\u001b[0m\u001b[0;34m'Afghanistan'\u001b[0m\u001b[0;34m,\u001b[0m \u001b[0;34m'Iraq'\u001b[0m\u001b[0;34m,\u001b[0m \u001b[0;34m'Colombia'\u001b[0m\u001b[0;34m]\u001b[0m\u001b[0;34m:\u001b[0m\u001b[0;34m\u001b[0m\u001b[0m\n\u001b[1;32m     11\u001b[0m     \u001b[0;31m#Load the multihawkes results\u001b[0m\u001b[0;34m\u001b[0m\u001b[0;34m\u001b[0m\u001b[0m\n\u001b[0;32m---> 12\u001b[0;31m     \u001b[0mmulti\u001b[0m \u001b[0;34m=\u001b[0m \u001b[0mjson\u001b[0m\u001b[0;34m.\u001b[0m\u001b[0mload\u001b[0m\u001b[0;34m(\u001b[0m \u001b[0mopen\u001b[0m\u001b[0;34m(\u001b[0m\u001b[0;34m'r1000/%s_multihawkes.json'\u001b[0m \u001b[0;34m%\u001b[0m \u001b[0mcountry\u001b[0m\u001b[0;34m)\u001b[0m \u001b[0;34m)\u001b[0m\u001b[0;34m\u001b[0m\u001b[0m\n\u001b[0m\u001b[1;32m     13\u001b[0m     \u001b[0;31m#Get the names\u001b[0m\u001b[0;34m\u001b[0m\u001b[0;34m\u001b[0m\u001b[0m\n\u001b[1;32m     14\u001b[0m     \u001b[0mtemp\u001b[0m \u001b[0;34m=\u001b[0m \u001b[0mpd\u001b[0m\u001b[0;34m.\u001b[0m\u001b[0mread_csv\u001b[0m\u001b[0;34m(\u001b[0m\u001b[0;34m'../../data/%s_multihawkes_data.csv'\u001b[0m \u001b[0;34m%\u001b[0m \u001b[0mcountry\u001b[0m\u001b[0;34m,\u001b[0m \u001b[0mindex_col\u001b[0m\u001b[0;34m=\u001b[0m\u001b[0;36m0\u001b[0m\u001b[0;34m)\u001b[0m\u001b[0;34m\u001b[0m\u001b[0m\n",
      "\u001b[0;31mFileNotFoundError\u001b[0m: [Errno 2] No such file or directory: 'r1000/Afghanistan_multihawkes.json'"
     ]
    }
   ],
   "source": [
    "node_trans = pd.read_csv('../../data/group_names_trans.csv')\n",
    "node_trans['nx_name'] = node_trans.AbmGTDname.apply(name_cleaner)\n",
    "\n",
    "for country in ['Afghanistan', 'Iraq', 'Colombia']:\n",
    "    #Load the multihawkes results\n",
    "    multi = json.load( open('r1000/%s_multihawkes.json' % country) )\n",
    "    #Get the names\n",
    "    temp = pd.read_csv('../../data/%s_multihawkes_data.csv' % country, index_col=0)\n",
    "    names = temp.iloc[:, 1:].columns.values.tolist()\n",
    "    #recreate the network\n",
    "    edges = []\n",
    "    for gname in names:\n",
    "        for i, w in enumerate(multi[gname]['W']):\n",
    "            if w!=0:\n",
    "                edges.append([name_cleaner(gname), name_cleaner(names[i]), w])\n",
    "    #Write the network\n",
    "    with open('../../results/multihawkes/r1000/%s_edges.csv' % country, 'w') as wfile:\n",
    "        print('Source,Target,Weight', file=wfile)\n",
    "        for i,j,w in edges:\n",
    "            print('%s,%s,%f' % (i, j, w), file=wfile)\n",
    "    G = nx.Graph()\n",
    "    G.add_weighted_edges_from(edges)\n",
    "    #Create the nodelist\n",
    "    nodelist = set(node_trans[node_trans.country_txt == country].nx_name.values.tolist()).intersection(G.nodes())\n",
    "    #Subset the graph\n",
    "    sG = G.subgraph(nodelist)\n",
    "    fig = plt.figure(figsize=(8,8))\n",
    "    ax = fig.add_subplot(111)\n",
    "    weights = [sG[u][v]['weight']*5 for u,v in sG.edges()]\n",
    "    pos = nx.spring_layout(sG)\n",
    "    nx.draw(sG, pos=pos, node_size=1000, \n",
    "            nodelist = nodelist, \n",
    "            arrows=True, \n",
    "            arrowstyle='>', with_labels=True, \n",
    "            node_color='steelblue', width=weights, ax=ax)\n",
    "    plt.tight_layout()\n",
    "    plt.savefig('../../results/multihawkes/r1000/%s.eps' % country)\n",
    "    plt.savefig('../../results/multihawkes/r1000/%s.png' % country)"
   ]
  },
  {
   "cell_type": "code",
   "execution_count": 2,
   "metadata": {},
   "outputs": [
    {
     "data": {
      "text/plain": [
       "Index(['Source', 'Target', 'Weight'], dtype='object')"
      ]
     },
     "execution_count": 2,
     "metadata": {},
     "output_type": "execute_result"
    }
   ],
   "source": [
    "pd.read_csv('../../results/multihawkes/r1000/Afghanistan_edges.csv').columns"
   ]
  },
  {
   "cell_type": "code",
   "execution_count": 3,
   "metadata": {},
   "outputs": [],
   "source": [
    "countries = ['Afghanistan', 'Iraq', 'Colombia']\n",
    "hawkes_edges = {c:pd.read_csv('../../results/multihawkes/r1000/%s_edges.csv' % c) for c in countries}"
   ]
  },
  {
   "cell_type": "code",
   "execution_count": 4,
   "metadata": {},
   "outputs": [],
   "source": [
    "known_edges = {c:pd.read_csv('../../data/%s_edges.csv' % c) for c in countries}"
   ]
  },
  {
   "cell_type": "code",
   "execution_count": 5,
   "metadata": {},
   "outputs": [
    {
     "data": {
      "text/html": [
       "<div>\n",
       "<style scoped>\n",
       "    .dataframe tbody tr th:only-of-type {\n",
       "        vertical-align: middle;\n",
       "    }\n",
       "\n",
       "    .dataframe tbody tr th {\n",
       "        vertical-align: top;\n",
       "    }\n",
       "\n",
       "    .dataframe thead th {\n",
       "        text-align: right;\n",
       "    }\n",
       "</style>\n",
       "<table border=\"1\" class=\"dataframe\">\n",
       "  <thead>\n",
       "    <tr style=\"text-align: right;\">\n",
       "      <th></th>\n",
       "      <th>Source</th>\n",
       "      <th>Target</th>\n",
       "      <th>Weight</th>\n",
       "    </tr>\n",
       "  </thead>\n",
       "  <tbody>\n",
       "    <tr>\n",
       "      <th>0</th>\n",
       "      <td>Gunmen</td>\n",
       "      <td>Left-Wing Extremists</td>\n",
       "      <td>0.217823</td>\n",
       "    </tr>\n",
       "    <tr>\n",
       "      <th>1</th>\n",
       "      <td>Left-Wing Extremists</td>\n",
       "      <td>Rebels</td>\n",
       "      <td>0.030998</td>\n",
       "    </tr>\n",
       "    <tr>\n",
       "      <th>2</th>\n",
       "      <td>Left-Wing Extremists</td>\n",
       "      <td>Unknown</td>\n",
       "      <td>0.131858</td>\n",
       "    </tr>\n",
       "    <tr>\n",
       "      <th>3</th>\n",
       "      <td>ELN</td>\n",
       "      <td>Gunmen</td>\n",
       "      <td>0.062967</td>\n",
       "    </tr>\n",
       "    <tr>\n",
       "      <th>4</th>\n",
       "      <td>ELN</td>\n",
       "      <td>FARC</td>\n",
       "      <td>0.476880</td>\n",
       "    </tr>\n",
       "    <tr>\n",
       "      <th>5</th>\n",
       "      <td>ERP</td>\n",
       "      <td>Rebels</td>\n",
       "      <td>0.085986</td>\n",
       "    </tr>\n",
       "    <tr>\n",
       "      <th>6</th>\n",
       "      <td>Rebels</td>\n",
       "      <td>Left-Wing Guerrillas</td>\n",
       "      <td>0.063542</td>\n",
       "    </tr>\n",
       "    <tr>\n",
       "      <th>7</th>\n",
       "      <td>AUC</td>\n",
       "      <td>ELN</td>\n",
       "      <td>1.115455</td>\n",
       "    </tr>\n",
       "    <tr>\n",
       "      <th>8</th>\n",
       "      <td>AUC</td>\n",
       "      <td>Rebels</td>\n",
       "      <td>0.049256</td>\n",
       "    </tr>\n",
       "    <tr>\n",
       "      <th>9</th>\n",
       "      <td>AUC</td>\n",
       "      <td>FARC</td>\n",
       "      <td>2.026551</td>\n",
       "    </tr>\n",
       "    <tr>\n",
       "      <th>10</th>\n",
       "      <td>AUC</td>\n",
       "      <td>AUC</td>\n",
       "      <td>0.524699</td>\n",
       "    </tr>\n",
       "    <tr>\n",
       "      <th>11</th>\n",
       "      <td>AUC</td>\n",
       "      <td>Unknown</td>\n",
       "      <td>0.908051</td>\n",
       "    </tr>\n",
       "    <tr>\n",
       "      <th>12</th>\n",
       "      <td>Unknown</td>\n",
       "      <td>Rebels</td>\n",
       "      <td>0.011369</td>\n",
       "    </tr>\n",
       "    <tr>\n",
       "      <th>13</th>\n",
       "      <td>Unknown</td>\n",
       "      <td>FARC</td>\n",
       "      <td>0.254001</td>\n",
       "    </tr>\n",
       "  </tbody>\n",
       "</table>\n",
       "</div>"
      ],
      "text/plain": [
       "                  Source                Target    Weight\n",
       "0                 Gunmen  Left-Wing Extremists  0.217823\n",
       "1   Left-Wing Extremists                Rebels  0.030998\n",
       "2   Left-Wing Extremists               Unknown  0.131858\n",
       "3                    ELN                Gunmen  0.062967\n",
       "4                    ELN                  FARC  0.476880\n",
       "5                    ERP                Rebels  0.085986\n",
       "6                 Rebels  Left-Wing Guerrillas  0.063542\n",
       "7                    AUC                   ELN  1.115455\n",
       "8                    AUC                Rebels  0.049256\n",
       "9                    AUC                  FARC  2.026551\n",
       "10                   AUC                   AUC  0.524699\n",
       "11                   AUC               Unknown  0.908051\n",
       "12               Unknown                Rebels  0.011369\n",
       "13               Unknown                  FARC  0.254001"
      ]
     },
     "execution_count": 5,
     "metadata": {},
     "output_type": "execute_result"
    }
   ],
   "source": [
    "hawkes_edges['Colombia']"
   ]
  },
  {
   "cell_type": "code",
   "execution_count": 6,
   "metadata": {},
   "outputs": [
    {
     "data": {
      "text/html": [
       "<div>\n",
       "<style scoped>\n",
       "    .dataframe tbody tr th:only-of-type {\n",
       "        vertical-align: middle;\n",
       "    }\n",
       "\n",
       "    .dataframe tbody tr th {\n",
       "        vertical-align: top;\n",
       "    }\n",
       "\n",
       "    .dataframe thead th {\n",
       "        text-align: right;\n",
       "    }\n",
       "</style>\n",
       "<table border=\"1\" class=\"dataframe\">\n",
       "  <thead>\n",
       "    <tr style=\"text-align: right;\">\n",
       "      <th></th>\n",
       "      <th>Source</th>\n",
       "      <th>Target</th>\n",
       "    </tr>\n",
       "  </thead>\n",
       "  <tbody>\n",
       "    <tr>\n",
       "      <th>0</th>\n",
       "      <td>Revolutionary Armed Forces of Colombia (FARC)</td>\n",
       "      <td>National Liberation Army of Colombia (ELN)</td>\n",
       "    </tr>\n",
       "    <tr>\n",
       "      <th>1</th>\n",
       "      <td>Revolutionary Armed Forces of Colombia (FARC)</td>\n",
       "      <td>United Self Defense Units of Colombia (AUC)</td>\n",
       "    </tr>\n",
       "    <tr>\n",
       "      <th>2</th>\n",
       "      <td>Revolutionary Armed Forces of Colombia (FARC)</td>\n",
       "      <td>United Self Defense Units of Colombia (AUC)</td>\n",
       "    </tr>\n",
       "    <tr>\n",
       "      <th>3</th>\n",
       "      <td>National Liberation Army of Colombia (ELN)</td>\n",
       "      <td>United Self Defense Units of Colombia (AUC)</td>\n",
       "    </tr>\n",
       "    <tr>\n",
       "      <th>4</th>\n",
       "      <td>National Liberation Army of Colombia (ELN)</td>\n",
       "      <td>Popular Liberation Army (EPL)</td>\n",
       "    </tr>\n",
       "  </tbody>\n",
       "</table>\n",
       "</div>"
      ],
      "text/plain": [
       "                                          Source  \\\n",
       "0  Revolutionary Armed Forces of Colombia (FARC)   \n",
       "1  Revolutionary Armed Forces of Colombia (FARC)   \n",
       "2  Revolutionary Armed Forces of Colombia (FARC)   \n",
       "3     National Liberation Army of Colombia (ELN)   \n",
       "4     National Liberation Army of Colombia (ELN)   \n",
       "\n",
       "                                        Target  \n",
       "0   National Liberation Army of Colombia (ELN)  \n",
       "1  United Self Defense Units of Colombia (AUC)  \n",
       "2  United Self Defense Units of Colombia (AUC)  \n",
       "3  United Self Defense Units of Colombia (AUC)  \n",
       "4                Popular Liberation Army (EPL)  "
      ]
     },
     "execution_count": 6,
     "metadata": {},
     "output_type": "execute_result"
    }
   ],
   "source": [
    "known_edges['Colombia']"
   ]
  },
  {
   "cell_type": "code",
   "execution_count": 7,
   "metadata": {},
   "outputs": [],
   "source": [
    "def name_reverser(x, name_trans):\n",
    "    try:\n",
    "        return name_trans[name_trans.nxName == x].AbmGTDname.values.tolist()[0]\n",
    "    except:\n",
    "        return x\n",
    "        \n",
    "\n",
    "name_trans = pd.read_csv('../../data/group_names_trans.csv')\n",
    "name_trans['nxName'] = name_trans.AbmGTDname.apply(name_cleaner)\n",
    "\n",
    "hawkes_edges['Colombia']['Source'] = hawkes_edges['Colombia'].Source.apply(lambda x: name_reverser(x, name_trans))\n",
    "hawkes_edges['Colombia']['Target'] = hawkes_edges['Colombia'].Target.apply(lambda x: name_reverser(x, name_trans))"
   ]
  },
  {
   "cell_type": "code",
   "execution_count": null,
   "metadata": {},
   "outputs": [],
   "source": []
  },
  {
   "cell_type": "code",
   "execution_count": null,
   "metadata": {},
   "outputs": [],
   "source": []
  },
  {
   "cell_type": "code",
   "execution_count": 8,
   "metadata": {},
   "outputs": [],
   "source": [
    "hawkes_graphs = {}\n",
    "known_graphs = {}\n",
    "hawkes_table = []\n",
    "known_table = []\n",
    "for country in countries:\n",
    "    #Hawkes num\n",
    "    hawkes_graphs[country] = nx.Graph()\n",
    "    hawkes_graphs[country].add_edges_from( hawkes_edges[country].iloc[:, :2].values.tolist() )\n",
    "    #known num\n",
    "    known_graphs[country] = nx.Graph()\n",
    "    known_graphs[country].add_edges_from( known_edges[country].values.tolist() )\n",
    "    #Pull the degree\n",
    "    for node in hawkes_graphs[country].nodes():\n",
    "        hawkes_table.append([country, node, hawkes_graphs[country].degree[node]])\n",
    "    for node in known_graphs[country].nodes():\n",
    "        known_table.append([country, node, known_graphs[country].degree[node]])"
   ]
  },
  {
   "cell_type": "code",
   "execution_count": 9,
   "metadata": {},
   "outputs": [
    {
     "name": "stdout",
     "output_type": "stream",
     "text": [
      "Afghanistan 10 4 0.833333333333\n",
      "Iraq 506 10 10.12\n",
      "Colombia 28 8 0.875\n"
     ]
    }
   ],
   "source": [
    "hdf = pd.DataFrame(hawkes_table, columns = ['Country', 'Node', 'hDegree'])\n",
    "kdf = pd.DataFrame(known_table, columns = ['Country', 'Node', 'kDegree'])\n",
    "\n",
    "for c in countries:\n",
    "    hsum = hdf[hdf.Country == c].hDegree.sum()\n",
    "    ksum = kdf[kdf.Country == c].kDegree.sum()\n",
    "    print(c, hsum, ksum, (hsum/ksum)/len(known_graphs[c].nodes()) )"
   ]
  },
  {
   "cell_type": "code",
   "execution_count": 10,
   "metadata": {},
   "outputs": [
    {
     "data": {
      "text/html": [
       "<div>\n",
       "<style scoped>\n",
       "    .dataframe tbody tr th:only-of-type {\n",
       "        vertical-align: middle;\n",
       "    }\n",
       "\n",
       "    .dataframe tbody tr th {\n",
       "        vertical-align: top;\n",
       "    }\n",
       "\n",
       "    .dataframe thead th {\n",
       "        text-align: right;\n",
       "    }\n",
       "</style>\n",
       "<table border=\"1\" class=\"dataframe\">\n",
       "  <thead>\n",
       "    <tr style=\"text-align: right;\">\n",
       "      <th></th>\n",
       "      <th>Country</th>\n",
       "      <th>Node</th>\n",
       "      <th>hDegree</th>\n",
       "      <th>kDegree</th>\n",
       "    </tr>\n",
       "  </thead>\n",
       "  <tbody>\n",
       "    <tr>\n",
       "      <th>0</th>\n",
       "      <td>Afghanistan</td>\n",
       "      <td>Taliban</td>\n",
       "      <td>4</td>\n",
       "      <td>2</td>\n",
       "    </tr>\n",
       "    <tr>\n",
       "      <th>1</th>\n",
       "      <td>Afghanistan</td>\n",
       "      <td>Al-Qaeda</td>\n",
       "      <td>2</td>\n",
       "      <td>1</td>\n",
       "    </tr>\n",
       "    <tr>\n",
       "      <th>2</th>\n",
       "      <td>Iraq</td>\n",
       "      <td>Ansar al-Islam</td>\n",
       "      <td>18</td>\n",
       "      <td>2</td>\n",
       "    </tr>\n",
       "    <tr>\n",
       "      <th>3</th>\n",
       "      <td>Iraq</td>\n",
       "      <td>Mujahedeen Shura Council</td>\n",
       "      <td>16</td>\n",
       "      <td>2</td>\n",
       "    </tr>\n",
       "    <tr>\n",
       "      <th>4</th>\n",
       "      <td>Iraq</td>\n",
       "      <td>Ansar al-Sunna</td>\n",
       "      <td>12</td>\n",
       "      <td>2</td>\n",
       "    </tr>\n",
       "    <tr>\n",
       "      <th>5</th>\n",
       "      <td>Iraq</td>\n",
       "      <td>Islamic Jihad Brigades</td>\n",
       "      <td>17</td>\n",
       "      <td>1</td>\n",
       "    </tr>\n",
       "    <tr>\n",
       "      <th>6</th>\n",
       "      <td>Iraq</td>\n",
       "      <td>AQI</td>\n",
       "      <td>13</td>\n",
       "      <td>3</td>\n",
       "    </tr>\n",
       "    <tr>\n",
       "      <th>7</th>\n",
       "      <td>Colombia</td>\n",
       "      <td>United Self Defense Units of Colombia (AUC)</td>\n",
       "      <td>6</td>\n",
       "      <td>2</td>\n",
       "    </tr>\n",
       "    <tr>\n",
       "      <th>8</th>\n",
       "      <td>Colombia</td>\n",
       "      <td>Revolutionary Armed Forces of Colombia (FARC)</td>\n",
       "      <td>3</td>\n",
       "      <td>2</td>\n",
       "    </tr>\n",
       "    <tr>\n",
       "      <th>9</th>\n",
       "      <td>Colombia</td>\n",
       "      <td>National Liberation Army of Colombia (ELN)</td>\n",
       "      <td>3</td>\n",
       "      <td>3</td>\n",
       "    </tr>\n",
       "  </tbody>\n",
       "</table>\n",
       "</div>"
      ],
      "text/plain": [
       "       Country                                           Node  hDegree  \\\n",
       "0  Afghanistan                                        Taliban        4   \n",
       "1  Afghanistan                                       Al-Qaeda        2   \n",
       "2         Iraq                                 Ansar al-Islam       18   \n",
       "3         Iraq                       Mujahedeen Shura Council       16   \n",
       "4         Iraq                                 Ansar al-Sunna       12   \n",
       "5         Iraq                         Islamic Jihad Brigades       17   \n",
       "6         Iraq                                            AQI       13   \n",
       "7     Colombia    United Self Defense Units of Colombia (AUC)        6   \n",
       "8     Colombia  Revolutionary Armed Forces of Colombia (FARC)        3   \n",
       "9     Colombia     National Liberation Army of Colombia (ELN)        3   \n",
       "\n",
       "   kDegree  \n",
       "0        2  \n",
       "1        1  \n",
       "2        2  \n",
       "3        2  \n",
       "4        2  \n",
       "5        1  \n",
       "6        3  \n",
       "7        2  \n",
       "8        2  \n",
       "9        3  "
      ]
     },
     "execution_count": 10,
     "metadata": {},
     "output_type": "execute_result"
    }
   ],
   "source": [
    "pd.merge(hdf, kdf, on=['Country', 'Node'])"
   ]
  },
  {
   "cell_type": "code",
   "execution_count": 27,
   "metadata": {},
   "outputs": [
    {
     "name": "stdout",
     "output_type": "stream",
     "text": [
      "Afghanistan 1.25\n",
      "Iraq 5.8\n",
      "Colombia 1.0\n"
     ]
    }
   ],
   "source": [
    "for country in countries:\n",
    "    #Hawkes graph\n",
    "    hawkes_G = nx.Graph()\n",
    "    hawkes_G.add_edges_from( hawkes_edges[country].iloc[:,:2].values.tolist() )\n",
    "    #allied graph\n",
    "    known_edges[country]['Weight']=1\n",
    "    known_G = nx.Graph()\n",
    "    known_G.add_edges_from( known_edges[country].iloc[:, :2].values.tolist() )\n",
    "    #Graph intersection\n",
    "    full_graph = nx.compose(hawkes_G, known_G)\n",
    "    #Add in disconnected nodes\n",
    "#     mudf = pd.read_csv('../../data/%s_mus.csv' % country)\n",
    "#     for gname in mudf.gname.values.tolist():\n",
    "#         if gname not in full_graph.nodes():\n",
    "#             hawkes_G.add_node(gname)\n",
    "#             hawkes_G.add_edge(gname, gname)\n",
    "    #Subset it\n",
    "    sub_full = hawkes_G.subgraph(name_trans.gname.values.tolist())\n",
    "    print(country, sum(x for k,x in sub_full.degree() if k in known_G.nodes())/sum(x for k,x in known_G.degree()))"
   ]
  },
  {
   "cell_type": "code",
   "execution_count": null,
   "metadata": {},
   "outputs": [],
   "source": []
  },
  {
   "cell_type": "code",
   "execution_count": 21,
   "metadata": {
    "scrolled": false
   },
   "outputs": [
    {
     "name": "stdout",
     "output_type": "stream",
     "text": [
      "Afghanistan 1.5\n",
      "Iraq 30.6\n",
      "Colombia 1.0\n"
     ]
    }
   ],
   "source": [
    "for country in countries:\n",
    "    #Hawkes graph\n",
    "    hawkes_G = nx.Graph()\n",
    "    hawkes_G.add_weighted_edges_from( hawkes_edges[country].values.tolist() )\n",
    "    #allied graph\n",
    "    known_edges[country]['Weight']=1\n",
    "    known_G = nx.Graph()\n",
    "    known_G.add_weighted_edges_from( known_edges[country].values.tolist() )\n",
    "    #Graph intersection\n",
    "    full_graph = nx.compose(hawkes_G, known_G)\n",
    "    #Add in disconnected nodes\n",
    "#     mudf = pd.read_csv('../../data/%s_mus.csv' % country)\n",
    "#     for gname in mudf.gname.values.tolist():\n",
    "#         if gname not in full_graph.nodes():\n",
    "#             hawkes_G.add_node(gname)\n",
    "#             hawkes_G.add_edge(gname, gname)\n",
    "    #Subset it\n",
    "    sub_full = hawkes_G.subgraph(name_trans.gname.values.tolist())\n",
    "    print(country, sum(x for k,x in sub_full.degree())/sum(x for k,x in known_G.degree()))\n",
    "    #Plot it out\n",
    "#     if country == 'Iraq':\n",
    "#         fig=plt.figure(figsize=(10,10))\n",
    "#     else:\n",
    "#         fig = plt.figure(figsize=(8,8))\n",
    "#     ax = fig.add_subplot(111)\n",
    "#     edge_coloring, edge_widths = [], []\n",
    "#     for edge in sub_full.edges():\n",
    "#         if edge in known_G.edges():\n",
    "#             edge_coloring.append('darkred')\n",
    "#             edge_widths.append(2)\n",
    "#         else:\n",
    "#             edge_coloring.append('gray')\n",
    "#             edge_widths.append(1)\n",
    "#     node_labels = {n:name_cleaner(n) for n in sub_full.nodes()}\n",
    "#     pos = nx.spring_layout(sub_full, scale=0.8)\n",
    "#     nx.draw(sub_full, pos=pos, node_size=1000, \n",
    "#             with_labels=True, edge_color = edge_coloring, width = edge_widths, labels=node_labels,\n",
    "#             node_color='steelblue', ax=ax)\n",
    "#     plt.tight_layout()\n",
    "#     plt.savefig('../../results/multihawkes/r1000/%s_intersection.eps' % country)\n",
    "#     plt.savefig('../../results/multihawkes/r1000/%s_intersection.png' % country)"
   ]
  },
  {
   "cell_type": "code",
   "execution_count": 24,
   "metadata": {},
   "outputs": [
    {
     "data": {
      "text/plain": [
       "EdgeView([('Revolutionary Armed Forces of Colombia (FARC)', 'United Self Defense Units of Colombia (AUC)'), ('Revolutionary Armed Forces of Colombia (FARC)', 'National Liberation Army of Colombia (ELN)'), ('United Self Defense Units of Colombia (AUC)', 'United Self Defense Units of Colombia (AUC)'), ('United Self Defense Units of Colombia (AUC)', 'National Liberation Army of Colombia (ELN)')])"
      ]
     },
     "execution_count": 24,
     "metadata": {},
     "output_type": "execute_result"
    }
   ],
   "source": [
    "sub_full.edges()"
   ]
  },
  {
   "cell_type": "code",
   "execution_count": null,
   "metadata": {},
   "outputs": [],
   "source": []
  },
  {
   "cell_type": "code",
   "execution_count": null,
   "metadata": {},
   "outputs": [],
   "source": []
  }
 ],
 "metadata": {
  "kernelspec": {
   "display_name": "Python 3",
   "language": "python",
   "name": "python3"
  },
  "language_info": {
   "codemirror_mode": {
    "name": "ipython",
    "version": 3
   },
   "file_extension": ".py",
   "mimetype": "text/x-python",
   "name": "python",
   "nbconvert_exporter": "python",
   "pygments_lexer": "ipython3",
   "version": "3.5.5"
  }
 },
 "nbformat": 4,
 "nbformat_minor": 2
}
